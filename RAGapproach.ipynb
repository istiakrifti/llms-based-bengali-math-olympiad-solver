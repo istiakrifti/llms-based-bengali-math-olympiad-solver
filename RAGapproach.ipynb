{
 "cells": [
  {
   "cell_type": "markdown",
   "metadata": {},
   "source": [
    "# Setup"
   ]
  },
  {
   "cell_type": "markdown",
   "metadata": {},
   "source": [
    "## Install packages"
   ]
  },
  {
   "cell_type": "code",
   "execution_count": 1,
   "metadata": {
    "execution": {
     "iopub.execute_input": "2024-10-15T15:02:01.530174Z",
     "iopub.status.busy": "2024-10-15T15:02:01.529799Z",
     "iopub.status.idle": "2024-10-15T15:02:53.054527Z",
     "shell.execute_reply": "2024-10-15T15:02:53.053340Z",
     "shell.execute_reply.started": "2024-10-15T15:02:01.530137Z"
    },
    "trusted": true
   },
   "outputs": [
    {
     "name": "stdout",
     "output_type": "stream",
     "text": [
      "Collecting faiss-gpu\n",
      "  Downloading faiss_gpu-1.7.2-cp310-cp310-manylinux_2_17_x86_64.manylinux2014_x86_64.whl.metadata (1.4 kB)\n",
      "Downloading faiss_gpu-1.7.2-cp310-cp310-manylinux_2_17_x86_64.manylinux2014_x86_64.whl (85.5 MB)\n",
      "\u001b[2K   \u001b[90m━━━━━━━━━━━━━━━━━━━━━━━━━━━━━━━━━━━━━━━━\u001b[0m \u001b[32m85.5/85.5 MB\u001b[0m \u001b[31m19.1 MB/s\u001b[0m eta \u001b[36m0:00:00\u001b[0m:00:01\u001b[0m00:01\u001b[0m\n",
      "\u001b[?25hInstalling collected packages: faiss-gpu\n",
      "Successfully installed faiss-gpu-1.7.2\n",
      "Collecting einops\n",
      "  Downloading einops-0.8.0-py3-none-any.whl.metadata (12 kB)\n",
      "Downloading einops-0.8.0-py3-none-any.whl (43 kB)\n",
      "\u001b[2K   \u001b[90m━━━━━━━━━━━━━━━━━━━━━━━━━━━━━━━━━━━━━━━━\u001b[0m \u001b[32m43.2/43.2 kB\u001b[0m \u001b[31m1.4 MB/s\u001b[0m eta \u001b[36m0:00:00\u001b[0m\n",
      "\u001b[?25hInstalling collected packages: einops\n",
      "Successfully installed einops-0.8.0\n",
      "Found existing installation: transformers 4.45.1\n",
      "Uninstalling transformers-4.45.1:\n",
      "  Successfully uninstalled transformers-4.45.1\n",
      "Collecting transformers==4.42.4\n",
      "  Downloading transformers-4.42.4-py3-none-any.whl.metadata (43 kB)\n",
      "\u001b[2K     \u001b[90m━━━━━━━━━━━━━━━━━━━━━━━━━━━━━━━━━━━━━━━━\u001b[0m \u001b[32m43.6/43.6 kB\u001b[0m \u001b[31m1.3 MB/s\u001b[0m eta \u001b[36m0:00:00\u001b[0m\n",
      "\u001b[?25hRequirement already satisfied: filelock in /opt/conda/lib/python3.10/site-packages (from transformers==4.42.4) (3.15.1)\n",
      "Requirement already satisfied: huggingface-hub<1.0,>=0.23.2 in /opt/conda/lib/python3.10/site-packages (from transformers==4.42.4) (0.25.1)\n",
      "Requirement already satisfied: numpy<2.0,>=1.17 in /opt/conda/lib/python3.10/site-packages (from transformers==4.42.4) (1.26.4)\n",
      "Requirement already satisfied: packaging>=20.0 in /opt/conda/lib/python3.10/site-packages (from transformers==4.42.4) (21.3)\n",
      "Requirement already satisfied: pyyaml>=5.1 in /opt/conda/lib/python3.10/site-packages (from transformers==4.42.4) (6.0.2)\n",
      "Requirement already satisfied: regex!=2019.12.17 in /opt/conda/lib/python3.10/site-packages (from transformers==4.42.4) (2024.5.15)\n",
      "Requirement already satisfied: requests in /opt/conda/lib/python3.10/site-packages (from transformers==4.42.4) (2.32.3)\n",
      "Requirement already satisfied: safetensors>=0.4.1 in /opt/conda/lib/python3.10/site-packages (from transformers==4.42.4) (0.4.5)\n",
      "Collecting tokenizers<0.20,>=0.19 (from transformers==4.42.4)\n",
      "  Downloading tokenizers-0.19.1-cp310-cp310-manylinux_2_17_x86_64.manylinux2014_x86_64.whl.metadata (6.7 kB)\n",
      "Requirement already satisfied: tqdm>=4.27 in /opt/conda/lib/python3.10/site-packages (from transformers==4.42.4) (4.66.4)\n",
      "Requirement already satisfied: fsspec>=2023.5.0 in /opt/conda/lib/python3.10/site-packages (from huggingface-hub<1.0,>=0.23.2->transformers==4.42.4) (2024.6.1)\n",
      "Requirement already satisfied: typing-extensions>=3.7.4.3 in /opt/conda/lib/python3.10/site-packages (from huggingface-hub<1.0,>=0.23.2->transformers==4.42.4) (4.12.2)\n",
      "Requirement already satisfied: pyparsing!=3.0.5,>=2.0.2 in /opt/conda/lib/python3.10/site-packages (from packaging>=20.0->transformers==4.42.4) (3.1.2)\n",
      "Requirement already satisfied: charset-normalizer<4,>=2 in /opt/conda/lib/python3.10/site-packages (from requests->transformers==4.42.4) (3.3.2)\n",
      "Requirement already satisfied: idna<4,>=2.5 in /opt/conda/lib/python3.10/site-packages (from requests->transformers==4.42.4) (3.7)\n",
      "Requirement already satisfied: urllib3<3,>=1.21.1 in /opt/conda/lib/python3.10/site-packages (from requests->transformers==4.42.4) (1.26.18)\n",
      "Requirement already satisfied: certifi>=2017.4.17 in /opt/conda/lib/python3.10/site-packages (from requests->transformers==4.42.4) (2024.8.30)\n",
      "Downloading transformers-4.42.4-py3-none-any.whl (9.3 MB)\n",
      "\u001b[2K   \u001b[90m━━━━━━━━━━━━━━━━━━━━━━━━━━━━━━━━━━━━━━━━\u001b[0m \u001b[32m9.3/9.3 MB\u001b[0m \u001b[31m64.3 MB/s\u001b[0m eta \u001b[36m0:00:00\u001b[0m00:01\u001b[0m00:01\u001b[0m\n",
      "\u001b[?25hDownloading tokenizers-0.19.1-cp310-cp310-manylinux_2_17_x86_64.manylinux2014_x86_64.whl (3.6 MB)\n",
      "\u001b[2K   \u001b[90m━━━━━━━━━━━━━━━━━━━━━━━━━━━━━━━━━━━━━━━━\u001b[0m \u001b[32m3.6/3.6 MB\u001b[0m \u001b[31m78.9 MB/s\u001b[0m eta \u001b[36m0:00:00\u001b[0m:00:01\u001b[0m\n",
      "\u001b[?25hInstalling collected packages: tokenizers, transformers\n",
      "  Attempting uninstall: tokenizers\n",
      "    Found existing installation: tokenizers 0.20.0\n",
      "    Uninstalling tokenizers-0.20.0:\n",
      "      Successfully uninstalled tokenizers-0.20.0\n",
      "Successfully installed tokenizers-0.19.1 transformers-4.42.4\n",
      "CPU times: user 670 ms, sys: 154 ms, total: 824 ms\n",
      "Wall time: 51.5 s\n"
     ]
    }
   ],
   "source": [
    "%%time\n",
    "!pip install faiss-gpu\n",
    "# install einops for embedding model\n",
    "!pip install einops\n",
    "# transformer version required for Embedding model\n",
    "!pip uninstall -y transformers\n",
    "!pip install transformers==4.42.4"
   ]
  },
  {
   "cell_type": "markdown",
   "metadata": {},
   "source": [
    "## Some configuration"
   ]
  },
  {
   "cell_type": "code",
   "execution_count": 4,
   "metadata": {
    "execution": {
     "iopub.execute_input": "2024-10-15T09:20:39.750553Z",
     "iopub.status.busy": "2024-10-15T09:20:39.749764Z",
     "iopub.status.idle": "2024-10-15T09:20:39.755254Z",
     "shell.execute_reply": "2024-10-15T09:20:39.754299Z",
     "shell.execute_reply.started": "2024-10-15T09:20:39.750503Z"
    },
    "trusted": true
   },
   "outputs": [],
   "source": [
    "# In DEBUG mode, infer only on 5 problems\n",
    "DEBUG = False\n",
    "# Number of candidate solutions to generate\n",
    "K = 4\n",
    "# Maximum number of turns\n",
    "DEPTH = 4\n",
    "# Generation Parameters\n",
    "TEMPERATURE = 0.5\n",
    "TOP_P = 0.9\n",
    "# vLLM batch size\n",
    "BATCH_SIZE = 64"
   ]
  },
  {
   "cell_type": "markdown",
   "metadata": {},
   "source": [
    "## Imports"
   ]
  },
  {
   "cell_type": "code",
   "execution_count": 2,
   "metadata": {
    "execution": {
     "iopub.execute_input": "2024-10-15T15:02:53.057266Z",
     "iopub.status.busy": "2024-10-15T15:02:53.056758Z",
     "iopub.status.idle": "2024-10-15T15:02:57.269704Z",
     "shell.execute_reply": "2024-10-15T15:02:57.268877Z",
     "shell.execute_reply.started": "2024-10-15T15:02:53.057208Z"
    },
    "trusted": true
   },
   "outputs": [],
   "source": [
    "import re\n",
    "import csv\n",
    "import torch\n",
    "import gc\n",
    "from tqdm import tqdm\n",
    "import pandas as pd\n",
    "from queue import Queue, Empty\n",
    "import os\n",
    "import re\n",
    "import signal\n",
    "import subprocess\n",
    "import tempfile\n",
    "from collections import Counter\n",
    "from contextlib import contextmanager\n",
    "import torch.nn.functional as F\n",
    "from transformers import AutoModel\n",
    "import faiss\n",
    "import faiss.contrib.torch_utils"
   ]
  },
  {
   "cell_type": "markdown",
   "metadata": {},
   "source": [
    "# Load Embedding Model"
   ]
  },
  {
   "cell_type": "markdown",
   "metadata": {},
   "source": [
    "### We load the NV-Embed-v2 model from Nvidia. You can experiment with other models."
   ]
  },
  {
   "cell_type": "code",
   "execution_count": 3,
   "metadata": {
    "execution": {
     "iopub.execute_input": "2024-10-15T15:03:39.481338Z",
     "iopub.status.busy": "2024-10-15T15:03:39.480805Z",
     "iopub.status.idle": "2024-10-15T15:06:07.049719Z",
     "shell.execute_reply": "2024-10-15T15:06:07.048907Z",
     "shell.execute_reply.started": "2024-10-15T15:03:39.481299Z"
    },
    "trusted": true
   },
   "outputs": [
    {
     "data": {
      "application/vnd.jupyter.widget-view+json": {
       "model_id": "3948279ac1a24cddae3dcebce6e50b23",
       "version_major": 2,
       "version_minor": 0
      },
      "text/plain": [
       "config.json:   0%|          | 0.00/2.66k [00:00<?, ?B/s]"
      ]
     },
     "metadata": {},
     "output_type": "display_data"
    },
    {
     "data": {
      "application/vnd.jupyter.widget-view+json": {
       "model_id": "2eb7f490ccef429f8f117b25d6b6b88e",
       "version_major": 2,
       "version_minor": 0
      },
      "text/plain": [
       "configuration_nvembed.py:   0%|          | 0.00/3.16k [00:00<?, ?B/s]"
      ]
     },
     "metadata": {},
     "output_type": "display_data"
    },
    {
     "name": "stderr",
     "output_type": "stream",
     "text": [
      "A new version of the following files was downloaded from https://huggingface.co/nvidia/NV-Embed-v2:\n",
      "- configuration_nvembed.py\n",
      ". Make sure to double-check they do not contain any added malicious code. To avoid downloading new versions of the code file, you can pin a revision.\n"
     ]
    },
    {
     "data": {
      "application/vnd.jupyter.widget-view+json": {
       "model_id": "b319799e2c2b497faae0facf271398f5",
       "version_major": 2,
       "version_minor": 0
      },
      "text/plain": [
       "modeling_nvembed.py:   0%|          | 0.00/18.7k [00:00<?, ?B/s]"
      ]
     },
     "metadata": {},
     "output_type": "display_data"
    },
    {
     "name": "stderr",
     "output_type": "stream",
     "text": [
      "A new version of the following files was downloaded from https://huggingface.co/nvidia/NV-Embed-v2:\n",
      "- modeling_nvembed.py\n",
      ". Make sure to double-check they do not contain any added malicious code. To avoid downloading new versions of the code file, you can pin a revision.\n"
     ]
    },
    {
     "data": {
      "application/vnd.jupyter.widget-view+json": {
       "model_id": "6458b7300576442ca232e8e3baf032c4",
       "version_major": 2,
       "version_minor": 0
      },
      "text/plain": [
       "model.safetensors.index.json:   0%|          | 0.00/28.2k [00:00<?, ?B/s]"
      ]
     },
     "metadata": {},
     "output_type": "display_data"
    },
    {
     "data": {
      "application/vnd.jupyter.widget-view+json": {
       "model_id": "9e9075a65899414fba807c0faaabe0f2",
       "version_major": 2,
       "version_minor": 0
      },
      "text/plain": [
       "Downloading shards:   0%|          | 0/4 [00:00<?, ?it/s]"
      ]
     },
     "metadata": {},
     "output_type": "display_data"
    },
    {
     "data": {
      "application/vnd.jupyter.widget-view+json": {
       "model_id": "92222e2e4c0a40179aa4bc0e674871ae",
       "version_major": 2,
       "version_minor": 0
      },
      "text/plain": [
       "model-00001-of-00004.safetensors:   0%|          | 0.00/5.00G [00:00<?, ?B/s]"
      ]
     },
     "metadata": {},
     "output_type": "display_data"
    },
    {
     "data": {
      "application/vnd.jupyter.widget-view+json": {
       "model_id": "0e3d483a6e6a41fdb0ca7492aea773fe",
       "version_major": 2,
       "version_minor": 0
      },
      "text/plain": [
       "model-00002-of-00004.safetensors:   0%|          | 0.00/4.92G [00:00<?, ?B/s]"
      ]
     },
     "metadata": {},
     "output_type": "display_data"
    },
    {
     "data": {
      "application/vnd.jupyter.widget-view+json": {
       "model_id": "c9407e9ee352497b9d9cabc4f4a7e693",
       "version_major": 2,
       "version_minor": 0
      },
      "text/plain": [
       "model-00003-of-00004.safetensors:   0%|          | 0.00/5.00G [00:00<?, ?B/s]"
      ]
     },
     "metadata": {},
     "output_type": "display_data"
    },
    {
     "data": {
      "application/vnd.jupyter.widget-view+json": {
       "model_id": "1c3d13698f8b4eafb3e6a769f7fd3e68",
       "version_major": 2,
       "version_minor": 0
      },
      "text/plain": [
       "model-00004-of-00004.safetensors:   0%|          | 0.00/789M [00:00<?, ?B/s]"
      ]
     },
     "metadata": {},
     "output_type": "display_data"
    },
    {
     "data": {
      "application/vnd.jupyter.widget-view+json": {
       "model_id": "ff10ff8f21854dfeb352b0678c7a6165",
       "version_major": 2,
       "version_minor": 0
      },
      "text/plain": [
       "tokenizer_config.json:   0%|          | 0.00/997 [00:00<?, ?B/s]"
      ]
     },
     "metadata": {},
     "output_type": "display_data"
    },
    {
     "data": {
      "application/vnd.jupyter.widget-view+json": {
       "model_id": "dcccb07197d54227887cbf146152b12f",
       "version_major": 2,
       "version_minor": 0
      },
      "text/plain": [
       "tokenizer.model:   0%|          | 0.00/493k [00:00<?, ?B/s]"
      ]
     },
     "metadata": {},
     "output_type": "display_data"
    },
    {
     "data": {
      "application/vnd.jupyter.widget-view+json": {
       "model_id": "aac83517205548b1880037936ddf9eb9",
       "version_major": 2,
       "version_minor": 0
      },
      "text/plain": [
       "tokenizer.json:   0%|          | 0.00/1.80M [00:00<?, ?B/s]"
      ]
     },
     "metadata": {},
     "output_type": "display_data"
    },
    {
     "data": {
      "application/vnd.jupyter.widget-view+json": {
       "model_id": "cc1bf1db8c3044209dabb1db66cc3447",
       "version_major": 2,
       "version_minor": 0
      },
      "text/plain": [
       "special_tokens_map.json:   0%|          | 0.00/551 [00:00<?, ?B/s]"
      ]
     },
     "metadata": {},
     "output_type": "display_data"
    },
    {
     "data": {
      "application/vnd.jupyter.widget-view+json": {
       "model_id": "4f2bdd5cc755420ba02416e283de97f5",
       "version_major": 2,
       "version_minor": 0
      },
      "text/plain": [
       "Loading checkpoint shards:   0%|          | 0/4 [00:00<?, ?it/s]"
      ]
     },
     "metadata": {},
     "output_type": "display_data"
    }
   ],
   "source": [
    "model = AutoModel.from_pretrained(\n",
    "    \"nvidia/NV-Embed-v2\", trust_remote_code=True, torch_dtype=torch.bfloat16, # load in 16-bit precision\n",
    "    device_map=\"auto\"\n",
    ")"
   ]
  },
  {
   "cell_type": "markdown",
   "metadata": {},
   "source": [
    "## Instruction added to each query"
   ]
  },
  {
   "cell_type": "code",
   "execution_count": 6,
   "metadata": {
    "execution": {
     "iopub.execute_input": "2024-10-15T15:06:26.699938Z",
     "iopub.status.busy": "2024-10-15T15:06:26.699557Z",
     "iopub.status.idle": "2024-10-15T15:06:26.704486Z",
     "shell.execute_reply": "2024-10-15T15:06:26.703542Z",
     "shell.execute_reply.started": "2024-10-15T15:06:26.699906Z"
    },
    "trusted": true
   },
   "outputs": [],
   "source": [
    "instruction = \"Given a mathematical problem in Bengali, retrieve the problem most similar to the given problem.\"\n",
    "prefix = \"Instruct: \" + instruction + \"\\nQuery: \""
   ]
  },
  {
   "cell_type": "markdown",
   "metadata": {},
   "source": [
    "# Functions to generate embeddings"
   ]
  },
  {
   "cell_type": "code",
   "execution_count": 7,
   "metadata": {
    "execution": {
     "iopub.execute_input": "2024-10-15T15:06:28.084205Z",
     "iopub.status.busy": "2024-10-15T15:06:28.083422Z",
     "iopub.status.idle": "2024-10-15T15:06:28.090214Z",
     "shell.execute_reply": "2024-10-15T15:06:28.089278Z",
     "shell.execute_reply.started": "2024-10-15T15:06:28.084159Z"
    },
    "trusted": true
   },
   "outputs": [],
   "source": [
    "def embed_query(query):\n",
    "    query_embeddings = model.encode(\n",
    "        [query], instruction=prefix, max_length=4096\n",
    "    )\n",
    "    # normal embeddings so that we can dot product to get cosine distance\n",
    "    query_embeddings = F.normalize(query_embeddings, p=2, dim=1)\n",
    "    return query_embeddings[0]\n",
    "\n",
    "def embed_document(document):\n",
    "    document_embeddings = model.encode(\n",
    "        [document], instruction='', max_length=4096\n",
    "    )\n",
    "    document_embeddings = F.normalize(document_embeddings, p=2, dim=1)\n",
    "    return document_embeddings[0]"
   ]
  },
  {
   "cell_type": "markdown",
   "metadata": {},
   "source": [
    "# Load Datasets"
   ]
  },
  {
   "cell_type": "code",
   "execution_count": 4,
   "metadata": {
    "execution": {
     "iopub.execute_input": "2024-10-15T15:06:07.051716Z",
     "iopub.status.busy": "2024-10-15T15:06:07.051130Z",
     "iopub.status.idle": "2024-10-15T15:06:12.652238Z",
     "shell.execute_reply": "2024-10-15T15:06:12.651298Z",
     "shell.execute_reply.started": "2024-10-15T15:06:07.051680Z"
    },
    "trusted": true
   },
   "outputs": [
    {
     "data": {
      "text/html": [
       "<div>\n",
       "<style scoped>\n",
       "    .dataframe tbody tr th:only-of-type {\n",
       "        vertical-align: middle;\n",
       "    }\n",
       "\n",
       "    .dataframe tbody tr th {\n",
       "        vertical-align: top;\n",
       "    }\n",
       "\n",
       "    .dataframe thead th {\n",
       "        text-align: right;\n",
       "    }\n",
       "</style>\n",
       "<table border=\"1\" class=\"dataframe\">\n",
       "  <thead>\n",
       "    <tr style=\"text-align: right;\">\n",
       "      <th></th>\n",
       "      <th>problem</th>\n",
       "      <th>solution</th>\n",
       "    </tr>\n",
       "  </thead>\n",
       "  <tbody>\n",
       "    <tr>\n",
       "      <th>0</th>\n",
       "      <td>\"CORPORBTION\" শব্দের অক্ষর ব্যবহার করে কয়টি ...</td>\n",
       "      <td>'কর্পোরেশন' শব্দে, আমরা স্বরবর্ণ OOAIO কে একটি...</td>\n",
       "    </tr>\n",
       "    <tr>\n",
       "      <th>1</th>\n",
       "      <td>\"CRYPTO\" কীওয়ার্ড সহ Playfair সাইফার বিবেচনা...</td>\n",
       "      <td>প্রথমে, আসুন \"CRYPTO\" কীওয়ার্ড ব্যবহার করে 5x...</td>\n",
       "    </tr>\n",
       "    <tr>\n",
       "      <th>2</th>\n",
       "      <td>\"ENTRANCE\" শব্দ থেকে 4টি অক্ষর নিয়ে নির্বাচন...</td>\n",
       "      <td>আমাদের 8টি অক্ষর রয়েছে যার থেকে 6টি অনন্য। 4ট...</td>\n",
       "    </tr>\n",
       "    <tr>\n",
       "      <th>3</th>\n",
       "      <td>\"MATH\" কীওয়ার্ড ব্যবহার করে নিম্নলিখিত Vigen...</td>\n",
       "      <td>Vigenere সাইফার ডিক্রিপ্ট করতে, আমাদের এনক্রিপ...</td>\n",
       "    </tr>\n",
       "    <tr>\n",
       "      <th>4</th>\n",
       "      <td>\"__45\" আকারে কতটি ধনাত্মক চার-অঙ্কের পূর্ণসংখ...</td>\n",
       "      <td>একটি সংখ্যা 45 দ্বারা বিভাজ্য হওয়ার জন্য, এটি...</td>\n",
       "    </tr>\n",
       "    <tr>\n",
       "      <th>...</th>\n",
       "      <td>...</td>\n",
       "      <td>...</td>\n",
       "    </tr>\n",
       "    <tr>\n",
       "      <th>126670</th>\n",
       "      <td>√{(3.5)(10^9)} নিচের কোনটির সবচেয়ে কাছাকাছি? ...</td>\n",
       "      <td>√{(3.5)(10^9)} = √{(35)(10^8)} = √(35)√(10^8) ...</td>\n",
       "    </tr>\n",
       "    <tr>\n",
       "      <th>126671</th>\n",
       "      <td>√{(8.2)(10^9)} নিচের কোনটির সবচেয়ে কাছাকাছি? ...</td>\n",
       "      <td>√{(8.2)(10^9)} = √{(82)(10^8)} = √(82)√(10^8) ...</td>\n",
       "    </tr>\n",
       "    <tr>\n",
       "      <th>126672</th>\n",
       "      <td>【হুয়ানহুয়ানের অ্যাডভেঞ্চার ইন দ্য এক্সপো পার...</td>\n",
       "      <td>(1) জোন ডি-র প্রবেশপথে সেই সময়ে নিরাপত্তা চেক...</td>\n",
       "    </tr>\n",
       "    <tr>\n",
       "      <th>126673</th>\n",
       "      <td>甲 এবং 乙 প্রত্যেকে চারটি কোর্সের মধ্যে থেকে দুট...</td>\n",
       "      <td>To find the number of ways in which 甲 and 乙 ca...</td>\n",
       "    </tr>\n",
       "    <tr>\n",
       "      <th>126674</th>\n",
       "      <td>甲 ডিভাইস দ্বারা উৎপাদিত পণ্যের সংখ্যা $x$টি, এ...</td>\n",
       "      <td>প্রথমে, ভগ্নাংশটি সরলীকৃত করুন, পেতে:\\n$$ \\fra...</td>\n",
       "    </tr>\n",
       "  </tbody>\n",
       "</table>\n",
       "<p>126675 rows × 2 columns</p>\n",
       "</div>"
      ],
      "text/plain": [
       "                                                  problem  \\\n",
       "0        \"CORPORBTION\" শব্দের অক্ষর ব্যবহার করে কয়টি ...   \n",
       "1        \"CRYPTO\" কীওয়ার্ড সহ Playfair সাইফার বিবেচনা...   \n",
       "2        \"ENTRANCE\" শব্দ থেকে 4টি অক্ষর নিয়ে নির্বাচন...   \n",
       "3        \"MATH\" কীওয়ার্ড ব্যবহার করে নিম্নলিখিত Vigen...   \n",
       "4        \"__45\" আকারে কতটি ধনাত্মক চার-অঙ্কের পূর্ণসংখ...   \n",
       "...                                                   ...   \n",
       "126670  √{(3.5)(10^9)} নিচের কোনটির সবচেয়ে কাছাকাছি? ...   \n",
       "126671  √{(8.2)(10^9)} নিচের কোনটির সবচেয়ে কাছাকাছি? ...   \n",
       "126672  【হুয়ানহুয়ানের অ্যাডভেঞ্চার ইন দ্য এক্সপো পার...   \n",
       "126673  甲 এবং 乙 প্রত্যেকে চারটি কোর্সের মধ্যে থেকে দুট...   \n",
       "126674  甲 ডিভাইস দ্বারা উৎপাদিত পণ্যের সংখ্যা $x$টি, এ...   \n",
       "\n",
       "                                                 solution  \n",
       "0       'কর্পোরেশন' শব্দে, আমরা স্বরবর্ণ OOAIO কে একটি...  \n",
       "1       প্রথমে, আসুন \"CRYPTO\" কীওয়ার্ড ব্যবহার করে 5x...  \n",
       "2       আমাদের 8টি অক্ষর রয়েছে যার থেকে 6টি অনন্য। 4ট...  \n",
       "3       Vigenere সাইফার ডিক্রিপ্ট করতে, আমাদের এনক্রিপ...  \n",
       "4       একটি সংখ্যা 45 দ্বারা বিভাজ্য হওয়ার জন্য, এটি...  \n",
       "...                                                   ...  \n",
       "126670  √{(3.5)(10^9)} = √{(35)(10^8)} = √(35)√(10^8) ...  \n",
       "126671  √{(8.2)(10^9)} = √{(82)(10^8)} = √(82)√(10^8) ...  \n",
       "126672  (1) জোন ডি-র প্রবেশপথে সেই সময়ে নিরাপত্তা চেক...  \n",
       "126673  To find the number of ways in which 甲 and 乙 ca...  \n",
       "126674  প্রথমে, ভগ্নাংশটি সরলীকৃত করুন, পেতে:\\n$$ \\fra...  \n",
       "\n",
       "[126675 rows x 2 columns]"
      ]
     },
     "execution_count": 4,
     "metadata": {},
     "output_type": "execute_result"
    }
   ],
   "source": [
    "example_df = pd.read_csv('/kaggle/input/math-bangla/Math_in_Bangla.csv')\n",
    "example_df"
   ]
  },
  {
   "cell_type": "code",
   "execution_count": 5,
   "metadata": {
    "execution": {
     "iopub.execute_input": "2024-10-15T15:06:16.260173Z",
     "iopub.status.busy": "2024-10-15T15:06:16.259295Z",
     "iopub.status.idle": "2024-10-15T15:06:16.281185Z",
     "shell.execute_reply": "2024-10-15T15:06:16.280242Z",
     "shell.execute_reply.started": "2024-10-15T15:06:16.260131Z"
    },
    "trusted": true
   },
   "outputs": [
    {
     "data": {
      "text/html": [
       "<div>\n",
       "<style scoped>\n",
       "    .dataframe tbody tr th:only-of-type {\n",
       "        vertical-align: middle;\n",
       "    }\n",
       "\n",
       "    .dataframe tbody tr th {\n",
       "        vertical-align: top;\n",
       "    }\n",
       "\n",
       "    .dataframe thead th {\n",
       "        text-align: right;\n",
       "    }\n",
       "</style>\n",
       "<table border=\"1\" class=\"dataframe\">\n",
       "  <thead>\n",
       "    <tr style=\"text-align: right;\">\n",
       "      <th></th>\n",
       "      <th>ID</th>\n",
       "      <th>Problem</th>\n",
       "    </tr>\n",
       "  </thead>\n",
       "  <tbody>\n",
       "    <tr>\n",
       "      <th>0</th>\n",
       "      <td>0</td>\n",
       "      <td>একটি কেক-কে সরলরৈখিকভাবে 2 বার কেটে সর্বোচ্চ ক...</td>\n",
       "    </tr>\n",
       "    <tr>\n",
       "      <th>1</th>\n",
       "      <td>1</td>\n",
       "      <td>একটি পুকুরের উপর 100 টি পাথর রাখা আছে। প্রথমে ...</td>\n",
       "    </tr>\n",
       "    <tr>\n",
       "      <th>2</th>\n",
       "      <td>2</td>\n",
       "      <td>ধরো $f(x) = x^{67-x^{67-x^{67-\\dots}}}$, যেখান...</td>\n",
       "    </tr>\n",
       "    <tr>\n",
       "      <th>3</th>\n",
       "      <td>3</td>\n",
       "      <td>সামিন ও স্বর্গ গণনার জন্য শুধু 0 আর 1 ব্যবহার ...</td>\n",
       "    </tr>\n",
       "    <tr>\n",
       "      <th>4</th>\n",
       "      <td>4</td>\n",
       "      <td>A, B, C তিনটি স্ট্যান্ড। A স্ট্যান্ড থেকে 2 টি...</td>\n",
       "    </tr>\n",
       "    <tr>\n",
       "      <th>...</th>\n",
       "      <td>...</td>\n",
       "      <td>...</td>\n",
       "    </tr>\n",
       "    <tr>\n",
       "      <th>95</th>\n",
       "      <td>95</td>\n",
       "      <td>একটি বক্সে কিছু লাল এবং নীল বল রয়েছে। যদি আরও ...</td>\n",
       "    </tr>\n",
       "    <tr>\n",
       "      <th>96</th>\n",
       "      <td>96</td>\n",
       "      <td>একটি চার অঙ্কের পূর্ণসংখ্যা 11 দ্বারা নিঃশেষে ...</td>\n",
       "    </tr>\n",
       "    <tr>\n",
       "      <th>97</th>\n",
       "      <td>97</td>\n",
       "      <td>এমন কতগুলো ধনাত্মক পূর্ণসংখ্যা আছে যারা $12^{1...</td>\n",
       "    </tr>\n",
       "    <tr>\n",
       "      <th>98</th>\n",
       "      <td>98</td>\n",
       "      <td>3 টি ক্রমিক পূর্ণসংখ্যার যোগফল 216 হলে, সবচেয়...</td>\n",
       "    </tr>\n",
       "    <tr>\n",
       "      <th>99</th>\n",
       "      <td>99</td>\n",
       "      <td>তোমাকে এক জাদুকর প্রথমদিন কিছু সংখ্যক কলম দিলো...</td>\n",
       "    </tr>\n",
       "  </tbody>\n",
       "</table>\n",
       "<p>100 rows × 2 columns</p>\n",
       "</div>"
      ],
      "text/plain": [
       "    ID                                            Problem\n",
       "0    0  একটি কেক-কে সরলরৈখিকভাবে 2 বার কেটে সর্বোচ্চ ক...\n",
       "1    1  একটি পুকুরের উপর 100 টি পাথর রাখা আছে। প্রথমে ...\n",
       "2    2  ধরো $f(x) = x^{67-x^{67-x^{67-\\dots}}}$, যেখান...\n",
       "3    3  সামিন ও স্বর্গ গণনার জন্য শুধু 0 আর 1 ব্যবহার ...\n",
       "4    4  A, B, C তিনটি স্ট্যান্ড। A স্ট্যান্ড থেকে 2 টি...\n",
       "..  ..                                                ...\n",
       "95  95  একটি বক্সে কিছু লাল এবং নীল বল রয়েছে। যদি আরও ...\n",
       "96  96  একটি চার অঙ্কের পূর্ণসংখ্যা 11 দ্বারা নিঃশেষে ...\n",
       "97  97  এমন কতগুলো ধনাত্মক পূর্ণসংখ্যা আছে যারা $12^{1...\n",
       "98  98  3 টি ক্রমিক পূর্ণসংখ্যার যোগফল 216 হলে, সবচেয়...\n",
       "99  99  তোমাকে এক জাদুকর প্রথমদিন কিছু সংখ্যক কলম দিলো...\n",
       "\n",
       "[100 rows x 2 columns]"
      ]
     },
     "execution_count": 5,
     "metadata": {},
     "output_type": "execute_result"
    }
   ],
   "source": [
    "test_df = pd.read_csv('/kaggle/input/dlsprint3/test.csv')\n",
    "test_df"
   ]
  },
  {
   "cell_type": "markdown",
   "metadata": {},
   "source": [
    "## Sample 100 problems from the dataset"
   ]
  },
  {
   "cell_type": "code",
   "execution_count": 8,
   "metadata": {
    "execution": {
     "iopub.execute_input": "2024-10-15T15:06:41.385076Z",
     "iopub.status.busy": "2024-10-15T15:06:41.384651Z",
     "iopub.status.idle": "2024-10-15T15:06:41.406047Z",
     "shell.execute_reply": "2024-10-15T15:06:41.405019Z",
     "shell.execute_reply.started": "2024-10-15T15:06:41.385037Z"
    },
    "trusted": true
   },
   "outputs": [
    {
     "data": {
      "text/html": [
       "<div>\n",
       "<style scoped>\n",
       "    .dataframe tbody tr th:only-of-type {\n",
       "        vertical-align: middle;\n",
       "    }\n",
       "\n",
       "    .dataframe tbody tr th {\n",
       "        vertical-align: top;\n",
       "    }\n",
       "\n",
       "    .dataframe thead th {\n",
       "        text-align: right;\n",
       "    }\n",
       "</style>\n",
       "<table border=\"1\" class=\"dataframe\">\n",
       "  <thead>\n",
       "    <tr style=\"text-align: right;\">\n",
       "      <th></th>\n",
       "      <th>problem</th>\n",
       "      <th>solution</th>\n",
       "    </tr>\n",
       "  </thead>\n",
       "  <tbody>\n",
       "    <tr>\n",
       "      <th>89167</th>\n",
       "      <td>একটি ধনাত্মক পূর্ণসংখ্যা $n$ এবং অশূন্য অঙ্কগু...</td>\n",
       "      <td>$A_n = a(1 + 10 + \\dots + 10^{n - 1}) = a \\cdo...</td>\n",
       "    </tr>\n",
       "    <tr>\n",
       "      <th>14969</th>\n",
       "      <td>একটি x ব্যক্তির শ্রেণীকক্ষ 40% মেয়ে দ্বারা প...</td>\n",
       "      <td>এই সমস্যাটি সমাধান করার জন্য, আমাদের x এর মান ...</td>\n",
       "    </tr>\n",
       "    <tr>\n",
       "      <th>125252</th>\n",
       "      <td>স্কুল নাচের জন্য অর্থ সংগ্রহ করতে স্কুল শুরু হ...</td>\n",
       "      <td>এই সমস্যাটি সমাধান করার জন্য, আমাদের x এর মান ...</td>\n",
       "    </tr>\n",
       "    <tr>\n",
       "      <th>107646</th>\n",
       "      <td>প্রাতঃরাশের জন্য, ডেইজি $2 এর জন্য একটি মাফিন ...</td>\n",
       "      <td>এই সমস্যাটি সমাধান করার জন্য, আমাদের x এর মান ...</td>\n",
       "    </tr>\n",
       "    <tr>\n",
       "      <th>30577</th>\n",
       "      <td>জুন যদি 20টি সমান টাইল সমন্বিত একটি নকশা তৈরি...</td>\n",
       "      <td>জুন 20টি টাইলস নিয়ে একটি নকশা তৈরি করেছে। নকশ...</td>\n",
       "    </tr>\n",
       "    <tr>\n",
       "      <th>...</th>\n",
       "      <td>...</td>\n",
       "      <td>...</td>\n",
       "    </tr>\n",
       "    <tr>\n",
       "      <th>52589</th>\n",
       "      <td>ম্যাসির প্রতি সপ্তাহে মোট 24 মাইল দৌড়ানোর লক...</td>\n",
       "      <td>ম্যাসির লক্ষ্য প্রতি সপ্তাহে মোট 24 মাইল চালান...</td>\n",
       "    </tr>\n",
       "    <tr>\n",
       "      <th>73492</th>\n",
       "      <td>লিসা একটি গৃহহীন আশ্রয়কে দান করার জন্য মোজা ...</td>\n",
       "      <td>লিসা 12 জোড়া মোজা কিনেছে। সান্ড্রা 20 জোড়া ম...</td>\n",
       "    </tr>\n",
       "    <tr>\n",
       "      <th>13720</th>\n",
       "      <td>এক সপ্তাহের মধ্যে একটি 140-পৃষ্ঠার বই পড়া শে...</td>\n",
       "      <td>এই সমস্যাটি সমাধান করার জন্য, আমাদের x এর মান ...</td>\n",
       "    </tr>\n",
       "    <tr>\n",
       "      <th>7038</th>\n",
       "      <td>MLB-এর জন্য ক্যারিয়ার হোম রান লিডারদের মধ্যে...</td>\n",
       "      <td>আমরা জানি যে হ্যাঙ্ক অ্যারন 755 হোম রান করেছেন...</td>\n",
       "    </tr>\n",
       "    <tr>\n",
       "      <th>124273</th>\n",
       "      <td>সাত ডজন কমলার মধ্যে 1/4 তার বন্ধুর জন্য সংরক্ষ...</td>\n",
       "      <td>সাত ডজনে 7 x 12 = 84 কমলা আছে। মিঃ সালাজার তার...</td>\n",
       "    </tr>\n",
       "  </tbody>\n",
       "</table>\n",
       "<p>100 rows × 2 columns</p>\n",
       "</div>"
      ],
      "text/plain": [
       "                                                  problem  \\\n",
       "89167   একটি ধনাত্মক পূর্ণসংখ্যা $n$ এবং অশূন্য অঙ্কগু...   \n",
       "14969    একটি x ব্যক্তির শ্রেণীকক্ষ 40% মেয়ে দ্বারা প...   \n",
       "125252  স্কুল নাচের জন্য অর্থ সংগ্রহ করতে স্কুল শুরু হ...   \n",
       "107646  প্রাতঃরাশের জন্য, ডেইজি $2 এর জন্য একটি মাফিন ...   \n",
       "30577    জুন যদি 20টি সমান টাইল সমন্বিত একটি নকশা তৈরি...   \n",
       "...                                                   ...   \n",
       "52589    ম্যাসির প্রতি সপ্তাহে মোট 24 মাইল দৌড়ানোর লক...   \n",
       "73492    লিসা একটি গৃহহীন আশ্রয়কে দান করার জন্য মোজা ...   \n",
       "13720    এক সপ্তাহের মধ্যে একটি 140-পৃষ্ঠার বই পড়া শে...   \n",
       "7038     MLB-এর জন্য ক্যারিয়ার হোম রান লিডারদের মধ্যে...   \n",
       "124273  সাত ডজন কমলার মধ্যে 1/4 তার বন্ধুর জন্য সংরক্ষ...   \n",
       "\n",
       "                                                 solution  \n",
       "89167   $A_n = a(1 + 10 + \\dots + 10^{n - 1}) = a \\cdo...  \n",
       "14969   এই সমস্যাটি সমাধান করার জন্য, আমাদের x এর মান ...  \n",
       "125252  এই সমস্যাটি সমাধান করার জন্য, আমাদের x এর মান ...  \n",
       "107646  এই সমস্যাটি সমাধান করার জন্য, আমাদের x এর মান ...  \n",
       "30577   জুন 20টি টাইলস নিয়ে একটি নকশা তৈরি করেছে। নকশ...  \n",
       "...                                                   ...  \n",
       "52589   ম্যাসির লক্ষ্য প্রতি সপ্তাহে মোট 24 মাইল চালান...  \n",
       "73492   লিসা 12 জোড়া মোজা কিনেছে। সান্ড্রা 20 জোড়া ম...  \n",
       "13720   এই সমস্যাটি সমাধান করার জন্য, আমাদের x এর মান ...  \n",
       "7038    আমরা জানি যে হ্যাঙ্ক অ্যারন 755 হোম রান করেছেন...  \n",
       "124273  সাত ডজনে 7 x 12 = 84 কমলা আছে। মিঃ সালাজার তার...  \n",
       "\n",
       "[100 rows x 2 columns]"
      ]
     },
     "execution_count": 8,
     "metadata": {},
     "output_type": "execute_result"
    }
   ],
   "source": [
    "example_df = example_df.sample(100)\n",
    "example_df"
   ]
  },
  {
   "cell_type": "code",
   "execution_count": 9,
   "metadata": {
    "execution": {
     "iopub.execute_input": "2024-10-15T15:06:46.652581Z",
     "iopub.status.busy": "2024-10-15T15:06:46.651839Z",
     "iopub.status.idle": "2024-10-15T15:06:46.662259Z",
     "shell.execute_reply": "2024-10-15T15:06:46.661227Z",
     "shell.execute_reply.started": "2024-10-15T15:06:46.652531Z"
    },
    "trusted": true
   },
   "outputs": [
    {
     "data": {
      "text/html": [
       "<div>\n",
       "<style scoped>\n",
       "    .dataframe tbody tr th:only-of-type {\n",
       "        vertical-align: middle;\n",
       "    }\n",
       "\n",
       "    .dataframe tbody tr th {\n",
       "        vertical-align: top;\n",
       "    }\n",
       "\n",
       "    .dataframe thead th {\n",
       "        text-align: right;\n",
       "    }\n",
       "</style>\n",
       "<table border=\"1\" class=\"dataframe\">\n",
       "  <thead>\n",
       "    <tr style=\"text-align: right;\">\n",
       "      <th></th>\n",
       "      <th>ID</th>\n",
       "      <th>Problem</th>\n",
       "    </tr>\n",
       "  </thead>\n",
       "  <tbody>\n",
       "    <tr>\n",
       "      <th>83</th>\n",
       "      <td>83</td>\n",
       "      <td>মণীষা একটি 256 পৃষ্ঠার নোটবুক কিনেছে। তুন্না প...</td>\n",
       "    </tr>\n",
       "    <tr>\n",
       "      <th>88</th>\n",
       "      <td>88</td>\n",
       "      <td>একটি গাছের জীবনের শুরুতে একটি পাতা থাকে। যেকোন...</td>\n",
       "    </tr>\n",
       "    <tr>\n",
       "      <th>7</th>\n",
       "      <td>7</td>\n",
       "      <td>তিন বন্ধু শাহরিয়ার, সাকিব আর সাদিয়া। শাহরিয়...</td>\n",
       "    </tr>\n",
       "    <tr>\n",
       "      <th>48</th>\n",
       "      <td>48</td>\n",
       "      <td>তাহমিদের কাছে $1, 2, 3, 5, 7, 9$ সংখ্যা গুলো আ...</td>\n",
       "    </tr>\n",
       "    <tr>\n",
       "      <th>13</th>\n",
       "      <td>13</td>\n",
       "      <td>যদি পায়েল তার মোবাইল ফোনে 3 অঙ্কবিশিষ্ট পাসওয়া...</td>\n",
       "    </tr>\n",
       "    <tr>\n",
       "      <th>51</th>\n",
       "      <td>51</td>\n",
       "      <td>$x$ ও $y$ দুইটি ধনাত্মক পূর্ণসংখ্যা। $xy = 196...</td>\n",
       "    </tr>\n",
       "    <tr>\n",
       "      <th>79</th>\n",
       "      <td>79</td>\n",
       "      <td>জ্যোতির পরীক্ষায় 6 টি প্রশ্ন এসেছে এবং তার কা...</td>\n",
       "    </tr>\n",
       "    <tr>\n",
       "      <th>29</th>\n",
       "      <td>29</td>\n",
       "      <td>একটি ধারার $n$ তম পদ হতে $(n - 1)$ তম পদের বিয়...</td>\n",
       "    </tr>\n",
       "    <tr>\n",
       "      <th>76</th>\n",
       "      <td>76</td>\n",
       "      <td>একটি বৃত্তস্থ ট্রাপিজিয়াম আঁকা হলো, যার পরিবৃ...</td>\n",
       "    </tr>\n",
       "    <tr>\n",
       "      <th>94</th>\n",
       "      <td>94</td>\n",
       "      <td>n সংখ্যক ক্রমিক পূর্ণসংখ্যার যোগফল n দ্বারা বি...</td>\n",
       "    </tr>\n",
       "  </tbody>\n",
       "</table>\n",
       "</div>"
      ],
      "text/plain": [
       "    ID                                            Problem\n",
       "83  83  মণীষা একটি 256 পৃষ্ঠার নোটবুক কিনেছে। তুন্না প...\n",
       "88  88  একটি গাছের জীবনের শুরুতে একটি পাতা থাকে। যেকোন...\n",
       "7    7  তিন বন্ধু শাহরিয়ার, সাকিব আর সাদিয়া। শাহরিয়...\n",
       "48  48  তাহমিদের কাছে $1, 2, 3, 5, 7, 9$ সংখ্যা গুলো আ...\n",
       "13  13  যদি পায়েল তার মোবাইল ফোনে 3 অঙ্কবিশিষ্ট পাসওয়া...\n",
       "51  51  $x$ ও $y$ দুইটি ধনাত্মক পূর্ণসংখ্যা। $xy = 196...\n",
       "79  79  জ্যোতির পরীক্ষায় 6 টি প্রশ্ন এসেছে এবং তার কা...\n",
       "29  29  একটি ধারার $n$ তম পদ হতে $(n - 1)$ তম পদের বিয়...\n",
       "76  76  একটি বৃত্তস্থ ট্রাপিজিয়াম আঁকা হলো, যার পরিবৃ...\n",
       "94  94  n সংখ্যক ক্রমিক পূর্ণসংখ্যার যোগফল n দ্বারা বি..."
      ]
     },
     "execution_count": 9,
     "metadata": {},
     "output_type": "execute_result"
    }
   ],
   "source": [
    "test_df = test_df.sample(10)\n",
    "test_df"
   ]
  },
  {
   "cell_type": "markdown",
   "metadata": {},
   "source": [
    "## "
   ]
  },
  {
   "cell_type": "markdown",
   "metadata": {},
   "source": [
    "## Convert the problems to convenient lists"
   ]
  },
  {
   "cell_type": "code",
   "execution_count": 10,
   "metadata": {
    "execution": {
     "iopub.execute_input": "2024-10-15T15:06:53.678732Z",
     "iopub.status.busy": "2024-10-15T15:06:53.677833Z",
     "iopub.status.idle": "2024-10-15T15:06:53.683460Z",
     "shell.execute_reply": "2024-10-15T15:06:53.682529Z",
     "shell.execute_reply.started": "2024-10-15T15:06:53.678689Z"
    },
    "trusted": true
   },
   "outputs": [],
   "source": [
    "problems = list(example_df['problem'])\n",
    "solutions = list(example_df['solution'])\n",
    "test_problems = list(test_df['Problem'])"
   ]
  },
  {
   "cell_type": "code",
   "execution_count": 11,
   "metadata": {
    "execution": {
     "iopub.execute_input": "2024-10-15T15:07:03.775598Z",
     "iopub.status.busy": "2024-10-15T15:07:03.775196Z",
     "iopub.status.idle": "2024-10-15T15:07:03.781668Z",
     "shell.execute_reply": "2024-10-15T15:07:03.780757Z",
     "shell.execute_reply.started": "2024-10-15T15:07:03.775562Z"
    },
    "trusted": true
   },
   "outputs": [
    {
     "data": {
      "text/plain": [
       "'একটি ধনাত্মক পূর্ণসংখ্যা $n$ এবং অশূন্য অঙ্কগুলির জন্য $a$, $b$, এবং $c$, যাক $A_n$ হল $n$-অঙ্কের পূর্ণসংখ্যা যার প্রতিটি সংখ্যা $a$ এর সমান; যাক $B_n$ হল $n$-অঙ্কের পূর্ণসংখ্যা যার প্রতিটি সংখ্যা $b$ এর সমান, এবং $C_n$ হল $2n$-অঙ্ক ($n$-অঙ্ক নয়) পূর্ণসংখ্যা যার প্রতিটি সংখ্যা সমান $c$ থেকে $a + b + c$ এর সর্বশ্রেষ্ঠ সম্ভাব্য মান কি যার জন্য $n$ এর কমপক্ষে দুটি মান যেমন $C_n - B_n = A_n^2$? $\\\\textbf{(A)} \\\\text{ 12} \\\\qquad \\\\textbf{(B)} \\\\text{ 14} \\\\qquad \\\\textbf{(C)} \\\\text{ 16} \\\\qquad \\\\textbf{(D)} \\\\text{ 18} \\\\qquad \\\\textbf{(E)} \\\\text{ 20}$'"
      ]
     },
     "execution_count": 11,
     "metadata": {},
     "output_type": "execute_result"
    }
   ],
   "source": [
    "problems[0]"
   ]
  },
  {
   "cell_type": "markdown",
   "metadata": {},
   "source": [
    "# Embed the Problems"
   ]
  },
  {
   "cell_type": "code",
   "execution_count": 12,
   "metadata": {
    "execution": {
     "iopub.execute_input": "2024-10-15T15:07:27.583513Z",
     "iopub.status.busy": "2024-10-15T15:07:27.583104Z",
     "iopub.status.idle": "2024-10-15T15:07:30.419060Z",
     "shell.execute_reply": "2024-10-15T15:07:30.418036Z",
     "shell.execute_reply.started": "2024-10-15T15:07:27.583459Z"
    },
    "trusted": true
   },
   "outputs": [
    {
     "name": "stderr",
     "output_type": "stream",
     "text": [
      "/root/.cache/huggingface/modules/transformers_modules/nvidia/NV-Embed-v2/0783263f3c009f67bd0e177040cfecad4b1171d6/modeling_nvembed.py:349: UserWarning: To copy construct from a tensor, it is recommended to use sourceTensor.clone().detach() or sourceTensor.clone().detach().requires_grad_(True), rather than torch.tensor(sourceTensor).\n",
      "  'input_ids': torch.tensor(batch_dict.get('input_ids').to(batch_dict.get('input_ids')).long()),\n",
      "/opt/conda/lib/python3.10/contextlib.py:103: FutureWarning: `torch.backends.cuda.sdp_kernel()` is deprecated. In the future, this context manager will be removed. Please see `torch.nn.attention.sdpa_kernel()` for the new context manager, with updated signature.\n",
      "  self.gen = func(*args, **kwds)\n"
     ]
    },
    {
     "data": {
      "text/plain": [
       "tensor([-0.0063, -0.0251,  0.0151,  ..., -0.0117,  0.0017,  0.0271],\n",
       "       device='cuda:0')"
      ]
     },
     "execution_count": 12,
     "metadata": {},
     "output_type": "execute_result"
    }
   ],
   "source": [
    "embed_document(problems[0])"
   ]
  },
  {
   "cell_type": "markdown",
   "metadata": {},
   "source": [
    "## Embed the database problems"
   ]
  },
  {
   "cell_type": "code",
   "execution_count": 13,
   "metadata": {
    "execution": {
     "iopub.execute_input": "2024-10-15T15:08:06.536791Z",
     "iopub.status.busy": "2024-10-15T15:08:06.536107Z",
     "iopub.status.idle": "2024-10-15T15:10:05.131552Z",
     "shell.execute_reply": "2024-10-15T15:10:05.130547Z",
     "shell.execute_reply.started": "2024-10-15T15:08:06.536752Z"
    },
    "trusted": true
   },
   "outputs": [
    {
     "name": "stderr",
     "output_type": "stream",
     "text": [
      "100%|██████████| 100/100 [01:58<00:00,  1.19s/it]\n"
     ]
    }
   ],
   "source": [
    "problem_embeddings = []\n",
    "for problem in tqdm(problems):\n",
    "    embedding = embed_document(problem)\n",
    "    problem_embeddings.append(embedding)\n",
    "problem_embeddings = torch.stack(problem_embeddings)"
   ]
  },
  {
   "cell_type": "markdown",
   "metadata": {},
   "source": [
    "## Embed the test problems"
   ]
  },
  {
   "cell_type": "code",
   "execution_count": 14,
   "metadata": {
    "execution": {
     "iopub.execute_input": "2024-10-15T15:10:05.133375Z",
     "iopub.status.busy": "2024-10-15T15:10:05.133068Z",
     "iopub.status.idle": "2024-10-15T15:10:17.802083Z",
     "shell.execute_reply": "2024-10-15T15:10:17.801190Z",
     "shell.execute_reply.started": "2024-10-15T15:10:05.133342Z"
    },
    "trusted": true
   },
   "outputs": [
    {
     "name": "stderr",
     "output_type": "stream",
     "text": [
      "100%|██████████| 10/10 [00:12<00:00,  1.27s/it]\n"
     ]
    }
   ],
   "source": [
    "test_embeddings = []\n",
    "for problem in tqdm(test_problems):\n",
    "    embedding = embed_query(problem)\n",
    "    test_embeddings.append(embedding)\n",
    "test_embeddings = torch.stack(test_embeddings)"
   ]
  },
  {
   "cell_type": "markdown",
   "metadata": {},
   "source": [
    "## "
   ]
  },
  {
   "cell_type": "markdown",
   "metadata": {},
   "source": [
    "## Dimension of the embedding"
   ]
  },
  {
   "cell_type": "code",
   "execution_count": 15,
   "metadata": {
    "execution": {
     "iopub.execute_input": "2024-10-15T15:11:11.882077Z",
     "iopub.status.busy": "2024-10-15T15:11:11.881667Z",
     "iopub.status.idle": "2024-10-15T15:11:11.888538Z",
     "shell.execute_reply": "2024-10-15T15:11:11.887550Z",
     "shell.execute_reply.started": "2024-10-15T15:11:11.882042Z"
    },
    "trusted": true
   },
   "outputs": [
    {
     "data": {
      "text/plain": [
       "4096"
      ]
     },
     "execution_count": 15,
     "metadata": {},
     "output_type": "execute_result"
    }
   ],
   "source": [
    "dimension = problem_embeddings.shape[1] \n",
    "dimension"
   ]
  },
  {
   "cell_type": "markdown",
   "metadata": {},
   "source": [
    "# Create FAISS index on CPU"
   ]
  },
  {
   "cell_type": "code",
   "execution_count": 16,
   "metadata": {
    "execution": {
     "iopub.execute_input": "2024-10-15T15:11:35.289999Z",
     "iopub.status.busy": "2024-10-15T15:11:35.289067Z",
     "iopub.status.idle": "2024-10-15T15:11:35.318714Z",
     "shell.execute_reply": "2024-10-15T15:11:35.317912Z",
     "shell.execute_reply.started": "2024-10-15T15:11:35.289956Z"
    },
    "trusted": true
   },
   "outputs": [],
   "source": [
    "index = faiss.IndexFlatIP(dimension)\n",
    "index.add(problem_embeddings.cpu().numpy()) "
   ]
  },
  {
   "cell_type": "markdown",
   "metadata": {},
   "source": [
    "# Find Similar Problems"
   ]
  },
  {
   "cell_type": "code",
   "execution_count": 17,
   "metadata": {
    "execution": {
     "iopub.execute_input": "2024-10-15T15:11:49.721635Z",
     "iopub.status.busy": "2024-10-15T15:11:49.720861Z",
     "iopub.status.idle": "2024-10-15T15:11:49.741860Z",
     "shell.execute_reply": "2024-10-15T15:11:49.740761Z",
     "shell.execute_reply.started": "2024-10-15T15:11:49.721595Z"
    },
    "trusted": true
   },
   "outputs": [
    {
     "data": {
      "text/plain": [
       "array([[97, 11,  4,  5, 58],\n",
       "       [ 0, 89, 11, 55, 93],\n",
       "       [36,  0,  4, 89, 38],\n",
       "       [ 0, 36,  4, 87, 29],\n",
       "       [93, 36, 68, 29,  5],\n",
       "       [ 0, 43, 38, 36, 93],\n",
       "       [11,  4, 93,  0, 87],\n",
       "       [ 0, 93, 36, 40, 87],\n",
       "       [73,  0, 93, 57, 68],\n",
       "       [ 0, 93, 38, 11, 36]])"
      ]
     },
     "execution_count": 17,
     "metadata": {},
     "output_type": "execute_result"
    }
   ],
   "source": [
    "# Top 5 most similar problems for now\n",
    "top_k = 5\n",
    "_, similar_indices = index.search(test_embeddings.cpu().numpy(), top_k)\n",
    "similar_indices"
   ]
  },
  {
   "cell_type": "markdown",
   "metadata": {},
   "source": [
    "# Create Prompts"
   ]
  },
  {
   "cell_type": "code",
   "execution_count": 18,
   "metadata": {
    "execution": {
     "iopub.execute_input": "2024-10-15T15:12:31.184145Z",
     "iopub.status.busy": "2024-10-15T15:12:31.183779Z",
     "iopub.status.idle": "2024-10-15T15:12:31.190068Z",
     "shell.execute_reply": "2024-10-15T15:12:31.189005Z",
     "shell.execute_reply.started": "2024-10-15T15:12:31.184113Z"
    },
    "trusted": true
   },
   "outputs": [],
   "source": [
    "prompts = [''] * len(test_problems)\n",
    "for i, idx_list in enumerate(similar_indices): \n",
    "\t# initial prompt\n",
    "    prompt = \"Here are a list of math problems and solutions:\\n\"\n",
    "    # add examples\n",
    "    for idx in idx_list:\n",
    "        prompt += f\"Problem: {problems[idx]}\\nSolution: {solutions[idx]}\\n\\n\" \n",
    "    # final problem\n",
    "    prompt += \"Now solve the problem below:\\n\"\n",
    "    prompt += test_problems[i]\n",
    "    prompts[i] = prompt"
   ]
  },
  {
   "cell_type": "code",
   "execution_count": 19,
   "metadata": {
    "execution": {
     "iopub.execute_input": "2024-10-15T15:12:33.920513Z",
     "iopub.status.busy": "2024-10-15T15:12:33.920112Z",
     "iopub.status.idle": "2024-10-15T15:12:33.925857Z",
     "shell.execute_reply": "2024-10-15T15:12:33.924922Z",
     "shell.execute_reply.started": "2024-10-15T15:12:33.920458Z"
    },
    "trusted": true
   },
   "outputs": [
    {
     "name": "stdout",
     "output_type": "stream",
     "text": [
      "Here are a list of math problems and solutions:\n",
      "Problem:  এক সপ্তাহের মধ্যে একটি 140-পৃষ্ঠার বই পড়া শেষ করার পরিকল্পনা করার সময়, জেসি প্রাথমিকভাবে প্রতিদিন 3 বার, প্রতিবার, সপ্তাহের প্রতিটি দিন x পৃষ্ঠা পড়ার সিদ্ধান্ত নেয়। প্রকৃতপক্ষে তার লক্ষ্য অর্জনের জন্য তাকে প্রতিদিন 2টি পৃষ্ঠা পড়তে হবে। অজানা চলক x এর মান কত?\n",
      "Solution: এই সমস্যাটি সমাধান করার জন্য, আমাদের x এর মান নির্ধারণ করতে হবে, যা জেসি প্রাথমিকভাবে প্রতিবার পড়ার সিদ্ধান্ত নিয়েছিল এমন পৃষ্ঠাগুলির সংখ্যাকে প্রতিনিধিত্ব করে। আমরা জানি যে জেসি প্রতিদিন 3 বার এবং প্রতিবার, সপ্তাহের প্রতিটি দিন x পৃষ্ঠা পড়ার পরিকল্পনা করে। অতএব, তিনি প্রতিদিন 3 * x = 3x পৃষ্ঠা পড়ার পরিকল্পনা করেছেন। আমরা এটাও জানি যে এক সপ্তাহের মধ্যে বইটি শেষ করার লক্ষ্য অর্জন করতে তাকে প্রতিদিন আরও 2টি পৃষ্ঠা পড়তে হবে। অতএব, তার প্রতিদিন 3x + 2 পৃষ্ঠা পড়া উচিত। বইটির মোট 140 পৃষ্ঠা রয়েছে এবং তিনি এটি এক সপ্তাহের মধ্যে শেষ করার পরিকল্পনা করেছেন। অতএব, তার প্রতিদিন 140/7 = 20 পৃষ্ঠা পড়া উচিত। আমরা নিম্নরূপ সমীকরণ সেট আপ করতে পারি: 3x + 2 = 20 আসুন x এর জন্য সরলীকরণ এবং সমাধান করি: 3x + 2 - 2 = 20 - 2 3x = 18 x বিচ্ছিন্ন করতে, আমরা সমীকরণের উভয় দিককে 3: 3x / 3 দ্বারা ভাগ করি = 18 / 3 x = 6 x এর মান 6। উত্তর হল 6। সঠিক উত্তর: \\boxed{6}\n",
      "\n",
      "Problem:  টিমের 22 ক্যান সোডা আছে। জেফ আসে, এবং টিমের কাছ থেকে x ক্যান সোডা নেয়। তারপর টিম যায় এবং তার রেখে যাওয়া সোডা ক্যানের অর্ধেক পরিমাণ কিনে নেয়। টিমের শেষ পর্যন্ত কতগুলো সোডা আছে? যদি আমরা উপরের প্রশ্নের উত্তর 24 জানি, তাহলে অজানা চলক x এর মান কত?\n",
      "Solution: টিম 22 ক্যান সোডা দিয়ে শুরু হয়। জেফ টিমের কাছ থেকে x ক্যান সোডা নেয়, তাই টিমের কাছে 22 - x ক্যান সোডা বাকি থাকে। তারপর টিম তার রেখে যাওয়া সোডা ক্যানগুলির অর্ধেক পরিমাণ কিনে নেয়, যার মানে সে (1/2)(22 - x) = (11 - x/2) ক্যান সোডা কেনে। শেষ পর্যন্ত সোডা টিমের মোট ক্যানের সংখ্যা তার রেখে যাওয়া ক্যানের সমষ্টি এবং সে যে ক্যানটি কিনেছিল: 22 - x + (11 - x/2) = 33 - x - x/2। আমাদের দেওয়া হয়েছে যে শেষ পর্যন্ত সোডা টিমের মোট ক্যানের সংখ্যা 24, তাই আমরা লিখতে পারি: 33 - x - x/2 = 24। ভগ্নাংশ থেকে পরিত্রাণ পেতে উভয় পক্ষকে 2 দ্বারা গুণ করলে আমরা পাই: 66 - 2x - x = 48. পদের মতো একত্রিত করলে আমরা পাই: -3x = -18। উভয় পক্ষকে -3 দ্বারা ভাগ করলে আমরা পাই: x = 6। x এর মান হল 6। উত্তর হল 6। সঠিক উত্তর: \\boxed{6}\n",
      "\n",
      "Problem:  জুন যদি 20টি সমান টাইল সমন্বিত একটি নকশা তৈরি করে, যার মধ্যে 3টি হলুদ টাইল থাকে এবং নীল টাইলের সংখ্যা হলুদ টাইলের সংখ্যার চেয়ে এক বেশি হয়, সেইসাথে 6টি বেগুনি টাইল থাকে, তাহলে নকশায় কতটি সাদা টাইল রয়েছে?\n",
      "Solution: জুন 20টি টাইলস নিয়ে একটি নকশা তৈরি করেছে। নকশায় 3টি হলুদ টাইলস রয়েছে। নীল টাইলের সংখ্যা হলুদ টাইলের সংখ্যার চেয়ে এক বেশি, তাই 3 + 1 = 4টি নীল টাইল রয়েছে। নকশায় বেগুনি টাইলস রয়েছে ৬টি। এখন পর্যন্ত, আমরা 3টি হলুদ টাইলস, 4টি নীল টাইলস এবং 6টি বেগুনি টাইলসের জন্য হিসাব করেছি, যার মোট 3 + 4 + 6 = 13টি টাইল রয়েছে৷ যেহেতু নকশায় মোট 20টি টাইল রয়েছে, তাই 20 - 13 = 7টি সাদা টাইল থাকতে হবে৷ উত্তর হল 7। সঠিক উত্তর: \\boxed{7}\n",
      "\n",
      "Problem:  একটি দোকান মোবাইল ফোন বিক্রি করছে। এই দোকানে 20 ইউনিট ফোন রয়েছে কিন্তু মালিক জানতে পেরেছেন যে 5টি ত্রুটিপূর্ণ ইউনিট রয়েছে। তিনি ত্রুটিপূর্ণ ইউনিটগুলি থেকে মুক্তি পাওয়ার পর, তিনি তার অবশিষ্ট ইউনিটগুলি গ্রাহক A কে বিক্রি করতে শুরু করেন যিনি x ইউনিট কিনেছিলেন, গ্রাহক B যিনি একটি নির্দিষ্ট পরিমাণ ইউনিট কিনেছিলেন এবং গ্রাহক C যিনি 7টি ইউনিট কিনেছিলেন। শেষ পর্যন্ত, সমস্ত নন-ডিফেক্টিভ ইউনিট বিক্রি করা হয়। গ্রাহক B এর কাছে 5 ইউনিট বিক্রি করা হয়েছিল। অজানা চলক x এর মান কত?\n",
      "Solution: এই সমস্যাটি সমাধান করার জন্য, আমাদের x এর মান নির্ধারণ করতে হবে, যা গ্রাহক A কেনা ইউনিটের সংখ্যাকে প্রতিনিধিত্ব করে। চলুন প্রদত্ত তথ্যগুলি ভেঙে দেওয়া যাক: দোকানে মোট ইউনিটের সংখ্যা: 20টি ত্রুটিপূর্ণ ইউনিটের সংখ্যা: 5টি গ্রাহকের কাছে বিক্রি করা ইউনিটের সংখ্যা A: x গ্রাহকের কাছে বিক্রি করা ইউনিটের সংখ্যা: B গ্রাহকের কাছে বিক্রি করা ইউনিটের সংখ্যা: 5 গ্রাহকের কাছে বিক্রি করা ইউনিটের সংখ্যা: 7 মোট বিক্রীত অ-ত্রুটিপূর্ণ ইউনিটের সংখ্যা: 20 - 5 = 15 (যেহেতু 5টি ত্রুটিপূর্ণ ইউনিট সরানো হয়েছে) আমরা নিম্নরূপ সমীকরণ সেট আপ করতে পারি: গ্রাহক A এর কাছে বিক্রি হওয়া ইউনিটের সংখ্যা + গ্রাহক B এর কাছে বিক্রি হওয়া ইউনিটের সংখ্যা + বিক্রি করা ইউনিটের সংখ্যা গ্রাহকের কাছে C = বিক্রিত অ-ত্রুটিপূর্ণ ইউনিটের মোট সংখ্যা x + 5 + 7 = 15 আসুন x এর জন্য সরলীকরণ এবং সমাধান করি: x + 12 = 15 x বিচ্ছিন্ন করতে, আমরা সমীকরণের উভয় দিক থেকে 12 বিয়োগ করি: x + 12 - 12 = 15 - 12 x = 3 x এর মান 3। উত্তর হল 3। সঠিক উত্তর: \\boxed{3}\n",
      "\n",
      "Problem:  চার ক্রীড়াবিদ একটি রিলে রেস যোগদান. অ্যাথলিট 1 55 সেকেন্ড দৌড়েছে, অ্যাথলিট 2 অ্যাথলিট 1 থেকে 10 সেকেন্ড বেশি দৌড়েছে, অ্যাথলিট 3 অ্যাথলিট 2 থেকে x সেকেন্ড কম দৌড়েছে, এবং অ্যাথলিট চার অ্যাথলিট 1 থেকে 25 সেকেন্ড কম দৌড়েছে। কতক্ষণ, সেকেন্ডে, তাদের সময় লেগেছে রিলে রেস শেষ? উপরের প্রশ্নের উত্তর যদি আমরা 200 জানি তাহলে অজানা চলক x এর মান কত?\n",
      "Solution: অ্যাথলিট 1 55 সেকেন্ডের জন্য দৌড়েছেন। অ্যাথলিট 2 অ্যাথলিট 1 থেকে 10 সেকেন্ড বেশি দৌড়েছে, যার মানে অ্যাথলিট 2 55 + 10 = 65 সেকেন্ড দৌড়েছে। অ্যাথলিট 3 অ্যাথলিট 2 থেকে x সেকেন্ড কম দৌড়েছে, যার মানে অ্যাথলিট 3 65 - x সেকেন্ড দৌড়েছে। অ্যাথলিট 4 এটি অ্যাথলিট 1 থেকে 25 সেকেন্ড কম সময়ে শেষ করেছে, যার মানে অ্যাথলিট 4 55 - 25 = 30 সেকেন্ড দৌড়েছে। রিলে রেস শেষ করতে মোট সময় লাগে প্রতিটি ক্রীড়াবিদ দ্বারা নেওয়া সময়ের সমষ্টি: 55 + 65 + (65 - x) + 30। আমাদের দেওয়া হয়েছে যে মোট সময় 200 সেকেন্ড, তাই আমরা লিখতে পারি: 55 + 65 + (65 - x) + 30 = 200। বাম দিকটি সরলীকরণ করলে আমরা পাব: 215 - x = 200। উভয় দিক থেকে 215 বিয়োগ করলে আমরা পাব: -x = -15। উভয় পক্ষকে -1 দ্বারা গুণ করলে আমরা পাই: x = 15। x এর মান হল 15। উত্তর হল 15। সঠিক উত্তর: \\boxed{15}\n",
      "\n",
      "Now solve the problem below:\n",
      "মণীষা একটি 256 পৃষ্ঠার নোটবুক কিনেছে। তুন্না প্রথমদিন প্রতিটি পৃষ্ঠায় পেন্সিল দিয়ে দাগ দেয়, এবং মণীষা প্রতি দ্বিতীয় পৃষ্ঠার দাগ মুছে দেয়। পরেরদিন তুন্না আবার প্রতি তৃতীয় পৃষ্ঠায় দাগ দেয় এবং মণীষা প্রতি চতুর্থ পৃষ্ঠার দাগ মুছে দেয়। এভাবে 128 দিন ধরে তুন্না আর মণীষার দাগ দেওয়া আর মোছা চলতে থাকে। 128 দিন শেষে, নোটবুকের কতটি পৃষ্ঠায় এখনো দাগ থেকে গিয়েছে?\n"
     ]
    }
   ],
   "source": [
    "print(prompts[0])"
   ]
  }
 ],
 "metadata": {
  "kaggle": {
   "accelerator": "gpu",
   "dataSources": [
    {
     "databundleVersionId": 9773555,
     "sourceId": 86200,
     "sourceType": "competition"
    },
    {
     "datasetId": 4871830,
     "sourceId": 8218776,
     "sourceType": "datasetVersion"
    },
    {
     "datasetId": 4746046,
     "sourceId": 8300737,
     "sourceType": "datasetVersion"
    },
    {
     "datasetId": 5864580,
     "sourceId": 9613954,
     "sourceType": "datasetVersion"
    }
   ],
   "dockerImageVersionId": 30787,
   "isGpuEnabled": true,
   "isInternetEnabled": true,
   "language": "python",
   "sourceType": "notebook"
  },
  "kernelspec": {
   "display_name": "Python 3",
   "language": "python",
   "name": "python3"
  },
  "language_info": {
   "codemirror_mode": {
    "name": "ipython",
    "version": 3
   },
   "file_extension": ".py",
   "mimetype": "text/x-python",
   "name": "python",
   "nbconvert_exporter": "python",
   "pygments_lexer": "ipython3",
   "version": "3.10.14"
  }
 },
 "nbformat": 4,
 "nbformat_minor": 4
}
